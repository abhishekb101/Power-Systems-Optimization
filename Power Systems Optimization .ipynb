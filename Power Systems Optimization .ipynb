{
 "cells": [
  {
   "cell_type": "code",
   "execution_count": 1,
   "id": "f34ed49b",
   "metadata": {},
   "outputs": [],
   "source": [
    "#Importing necessary libraries and pyomo objects\n",
    "from pyomo.environ import *\n",
    "from pyomo.opt import SolverFactory\n",
    "import pandas as pd\n",
    "import numpy as np"
   ]
  },
  {
   "cell_type": "code",
   "execution_count": 2,
   "id": "68aa9f51",
   "metadata": {},
   "outputs": [],
   "source": [
    "#Creating the model object\n",
    "RGenModel = AbstractModel()\n",
    "\n",
    "#Sets & Parameters of the Abstract model\n",
    "RGenModel.gen = Set()                     #non-renewable generators\n",
    "RGenModel.t = Set()                       #time periods \n",
    "RGenModel.rgen = Set()                    #renewable generators\n",
    "\n",
    "#Operational cost of each generator --> heat_rate*fuel_cost + VOM + FOM\n",
    "RGenModel.OpCost = Param(RGenModel.gen)\n",
    "RGenModel.ROpCost = Param(RGenModel.rgen)\n",
    "#Capacity of each generator \n",
    "RGenModel.Cap = Param(RGenModel.gen)\n",
    "RGenModel.RCap = Param(RGenModel.rgen)\n",
    "#Demand at any period of time --> hourly\n",
    "RGenModel.Demand = Param(RGenModel.t, within=PositiveReals)\n",
    "#Capacity factor for renewable generators at a given period of time\n",
    "RGenModel.CF = Param(RGenModel.rgen, RGenModel.t)\n",
    "\n",
    "#Allowable ramp rate of each generator \n",
    "RGenModel.RR = Param(RGenModel.gen)\n",
    "RGenModel.Ren_RR = Param(RGenModel.rgen)\n",
    "\n",
    "#Declaring decision variable\n",
    "#Electricity generation for any generator at a given period of time\n",
    "RGenModel.EG = Var(RGenModel.gen, RGenModel.t, domain=NonNegativeReals)\n",
    "RGenModel.REG = Var(RGenModel.rgen, RGenModel.t, domain=NonNegativeReals)"
   ]
  },
  {
   "cell_type": "code",
   "execution_count": 3,
   "id": "a4dd7756",
   "metadata": {},
   "outputs": [],
   "source": [
    "#Objective function\n",
    "#Minimize the operational system cost over the fleet of non-renewable and renewable generators\n",
    "\n",
    "def obj_expression(RGenModel):\n",
    "    return sum(sum(RGenModel.OpCost[g]*RGenModel.EG[g,t] for g in RGenModel.gen) for t in RGenModel.t) + \\\n",
    "           sum(sum(RGenModel.ROpCost[rg]*RGenModel.REG[rg,t] for rg in RGenModel.rgen) for t in RGenModel.t)\n",
    "\n",
    "RGenModel.sysCost = Objective(rule=obj_expression, sense=minimize)"
   ]
  },
  {
   "cell_type": "code",
   "execution_count": 4,
   "id": "51142c0f",
   "metadata": {},
   "outputs": [],
   "source": [
    "#The above objective function is subject to multiple constraints\n",
    "\n",
    "#1. Supply == 1.15 * Demand for all periods of time (Factoring in ancillary services -- regulation,\n",
    "                                                                        #spinning & non spinning reservies)\n",
    "def balance_rule(RGenModel, t):\n",
    "    return sum(RGenModel.EG[g,t] for g in RGenModel.gen) + \\\n",
    "           sum(RGenModel.REG[rg,t] for rg in RGenModel.rgen) == 1.15 * RGenModel.Demand[t]\n",
    "\n",
    "RGenModel.balance = Constraint(RGenModel.t, rule=balance_rule)"
   ]
  },
  {
   "cell_type": "code",
   "execution_count": 5,
   "id": "02ca32a6",
   "metadata": {},
   "outputs": [],
   "source": [
    "#2. The Generation potential of each non-renewable generator is restricted by its max capacity\n",
    "def max_gen_rule(RGenModel, gen, t):\n",
    "    return RGenModel.EG[gen,t] <= RGenModel.Cap[gen]\n",
    "\n",
    "RGenModel.max_gen = Constraint(RGenModel.gen, RGenModel.t, rule=max_gen_rule)"
   ]
  },
  {
   "cell_type": "code",
   "execution_count": 6,
   "id": "e2dee74a",
   "metadata": {},
   "outputs": [],
   "source": [
    "#3. The generation potential of renewable generators are limited by its capacity factor\n",
    "def max_gen_renewable_rule(RGenModel, rgen, t):\n",
    "    return RGenModel.REG[rgen,t] <= RGenModel.RCap[rgen] * CF_dict[rgen,t]\n",
    "\n",
    "RGenModel.max_rgen = Constraint(RGenModel.rgen, RGenModel.t, rule=max_gen_renewable_rule)"
   ]
  },
  {
   "cell_type": "code",
   "execution_count": 7,
   "id": "e6ae174c",
   "metadata": {},
   "outputs": [],
   "source": [
    "#4. Accounting for up ramp rates for each non-renewable generator in the fleet\n",
    "def up_ramp_rate(RGenModel, gen, t):\n",
    "    if t == RGenModel.t.first():\n",
    "        return Constraint.Skip\n",
    "    else:\n",
    "    #if RGenModel.t.ord(t) > 1:\n",
    "        return RGenModel.EG[gen,t] - RGenModel.EG[gen,t-1] <= RGenModel.RR[gen] \n",
    "\n",
    "RGenModel.NR_upramp = Constraint(RGenModel.gen, RGenModel.t, rule=up_ramp_rate)"
   ]
  },
  {
   "cell_type": "code",
   "execution_count": 8,
   "id": "964169e3",
   "metadata": {},
   "outputs": [],
   "source": [
    "#5. Accounting for down ramp rates for each non-renewable generator in the fleet\n",
    "def down_ramp_rate(RGenModel, gen, t):\n",
    "    if t == RGenModel.t.first():\n",
    "        return Constraint.Skip\n",
    "    else: \n",
    "        return RGenModel.EG[gen,t-1] - RGenModel.EG[gen,t] <= RGenModel.RR[gen] \n",
    "\n",
    "RGenModel.NR_downramp = Constraint(RGenModel.gen, RGenModel.t, rule=down_ramp_rate)"
   ]
  },
  {
   "cell_type": "code",
   "execution_count": 9,
   "id": "66e986ac",
   "metadata": {},
   "outputs": [],
   "source": [
    "#6. Accounting for up ramp rates for each renewable generator in the fleet\n",
    "def ren_up_ramp_rate(RGenModel, rgen, t):\n",
    "    if t == RGenModel.t.first():\n",
    "        return Constraint.Skip\n",
    "    else: \n",
    "        return RGenModel.REG[rgen,t] - RGenModel.REG[rgen,t-1] <= RGenModel.Ren_RR[rgen]\n",
    "                \n",
    "RGenModel.R_upramp = Constraint(RGenModel.rgen, RGenModel.t, rule=ren_up_ramp_rate)"
   ]
  },
  {
   "cell_type": "code",
   "execution_count": 10,
   "id": "ecc1e9f4",
   "metadata": {},
   "outputs": [],
   "source": [
    "#7. Accounting for down ramp rates for each renewable generator in the fleet\n",
    "def ren_down_ramp_rate(RGenModel, rgen, t):\n",
    "    if t == RGenModel.t.first():\n",
    "        return Constraint.Skip\n",
    "    else: \n",
    "        return RGenModel.REG[rgen,t-1] - RGenModel.REG[rgen,t] <= RGenModel.Ren_RR[rgen]\n",
    "\n",
    "RGenModel.R_downramp = Constraint(RGenModel.rgen, RGenModel.t, rule=ren_down_ramp_rate)"
   ]
  },
  {
   "cell_type": "code",
   "execution_count": 11,
   "id": "354a534a",
   "metadata": {},
   "outputs": [
    {
     "name": "stdout",
     "output_type": "stream",
     "text": [
      "Set parameter Username\n",
      "Academic license - for non-commercial use only - expires 2023-11-09\n",
      "Read LP format model from file /var/folders/rk/rn44mwf56119gm2tgnf1dcjw0000gn/T/tmpvpgthllm.pyomo.lp\n",
      "Reading time = 0.64 seconds\n",
      "sysCost: 245263 rows, 78841 columns, 473005 nonzeros\n",
      "Gurobi Optimizer version 9.5.2 build v9.5.2rc0 (mac64[x86])\n",
      "Thread count: 4 physical cores, 8 logical processors, using up to 8 threads\n",
      "Optimize a model with 245263 rows, 78841 columns and 473005 nonzeros\n",
      "Model fingerprint: 0x05a83955\n",
      "Coefficient statistics:\n",
      "  Matrix range     [1e+00, 1e+00]\n",
      "  Objective range  [1e+00, 5e+01]\n",
      "  Bounds range     [0e+00, 0e+00]\n",
      "  RHS range        [3e-02, 8e+04]\n",
      "\n",
      "Concurrent LP optimizer: dual simplex and barrier\n",
      "Showing barrier log only...\n",
      "\n",
      "Presolve removed 187871 rows and 5598 columns\n",
      "Presolve time: 0.26s\n",
      "Presolved: 57392 rows, 120847 columns, 218111 nonzeros\n",
      "\n",
      "Ordering time: 0.02s\n",
      "\n",
      "Barrier statistics:\n",
      " AA' NZ     : 1.455e+05\n",
      " Factor NZ  : 8.662e+05 (roughly 80 MB of memory)\n",
      " Factor Ops : 1.384e+07 (less than 1 second per iteration)\n",
      " Threads    : 3\n",
      "\n",
      "                  Objective                Residual\n",
      "Iter       Primal          Dual         Primal    Dual     Compl     Time\n",
      "   0   1.21436434e+11 -7.62651039e+10  5.89e+05 1.38e+01  2.82e+06     0s\n",
      "   1   2.69263345e+10 -4.09884797e+10  8.68e+04 4.97e-14  5.06e+05     0s\n",
      "   2   1.09588055e+10 -1.81213122e+09  5.94e+03 7.46e-14  6.00e+04     1s\n",
      "\n",
      "Barrier performed 2 iterations in 0.50 seconds (0.29 work units)\n",
      "Barrier solve interrupted - model solved by another algorithm\n",
      "\n",
      "\n",
      "Solved with dual simplex\n",
      "Solved in 12448 iterations and 0.51 seconds (0.32 work units)\n",
      "Optimal objective  7.449302205e+09\n"
     ]
    }
   ],
   "source": [
    "#Specifying the solver to use for optimization along with Dataportal\n",
    "opt = SolverFactory('gurobi')\n",
    "data = DataPortal()\n",
    "\n",
    "#Reading respective demand, generator and capacity factor profiles from different \n",
    "data.load(filename='Hourly_demand_profile_2021.csv', format='set', set='t', model=RGenModel)\n",
    "data.load(filename='Hourly_demand_profile_2021.csv', index='t', param='Demand', model=RGenModel)\n",
    "data.load(filename='generation_data.csv', format='set', set='gen', model=RGenModel)\n",
    "data.load(filename='renewable_generation_data.csv', format='set', set='rgen', model=RGenModel)\n",
    "data.load(filename='generation_data.csv',index='gen', param=['OpCost','Cap','RR'], model=RGenModel)\n",
    "data.load(filename='renewable_generation_data.csv', index='rgen',param=['ROpCost','RCap','Ren_RR'], model=RGenModel)\n",
    "#Reading the CF file and post processing using pandas to handle multi-index \n",
    "CF_dict = pd.read_csv('Renewable_generators_CF.csv', index_col='t').unstack(0).to_dict()\n",
    "\n",
    "#Creating an instance and displaying all information of that instance\n",
    "instance = RGenModel.create_instance(data)\n",
    "\n",
    "#We can display all the info of the instance\n",
    "#instance.pprint()\n",
    "\n",
    "#Solving the optimization problem\n",
    "results = opt.solve(instance, symbolic_solver_labels=True, tee=True) "
   ]
  },
  {
   "cell_type": "code",
   "execution_count": 12,
   "id": "7dc5841f",
   "metadata": {},
   "outputs": [],
   "source": [
    "#Using lists to store electricity generated hourly profiles for all renewable generators\n",
    "Wind_EG = []\n",
    "Solar_EG = []\n",
    "Geothermal_EG = []\n",
    "Biomass_EG = []\n",
    "\n",
    "for key, val in instance.REG.extract_values().items():\n",
    "    if 'Wind' in key:\n",
    "        Wind_EG.append(val)\n",
    "    elif 'Solar' in key:\n",
    "        Solar_EG.append(val)\n",
    "    elif 'Geothermal' in key:\n",
    "        Geothermal_EG.append(val)\n",
    "    else:\n",
    "        Biomass_EG.append(val)\n",
    "        \n",
    "#Using lists to store electricity generated hourly profiles for all non-renewable generators\n",
    "Coal_EG = []\n",
    "NG_EG = []\n",
    "NG_CC_EG = []\n",
    "Nuclear_EG = []\n",
    "Hydro_EG = []\n",
    "\n",
    "for key, val in instance.EG.extract_values().items():\n",
    "    if 'Coal' in key:\n",
    "        Coal_EG.append(val)\n",
    "    elif 'NG' in key:\n",
    "        NG_EG.append(val)\n",
    "    elif 'NG-CC' in key:\n",
    "        NG_CC_EG.append(val)\n",
    "    elif 'Nuclear' in key:\n",
    "        Nuclear_EG.append(val)\n",
    "    else:\n",
    "        Hydro_EG.append(val)"
   ]
  },
  {
   "cell_type": "code",
   "execution_count": 13,
   "id": "56de783b",
   "metadata": {},
   "outputs": [],
   "source": [
    "#Loading all time profiles for each generator in the fleet through a pandas dataframe\n",
    "Elec_gen_dict = {'time period': np.arange(1,8761),\n",
    "                 'Coal': Coal_EG,\n",
    "                 'NG': NG_EG,\n",
    "                 'NG-CC': NG_CC_EG,\n",
    "                 'Nuclear': Nuclear_EG,\n",
    "                 'Biomass': Biomass_EG,\n",
    "                 'Hydro': Hydro_EG,\n",
    "                 'Wind': Wind_EG,\n",
    "                 'Solar': Solar_EG,\n",
    "                 'Geothermal': Geothermal_EG,} \n",
    "\n",
    "Elec_gen_DataFrame = pd.DataFrame(data = Elec_gen_dict)\n",
    "Elec_gen_DataFrame.set_index('time period', inplace=True)\n",
    "Elec_gen_DataFrame.head()\n",
    "\n",
    "#Saving the Elec_gen_DataFrame as csv for easy graphing!\n",
    "Elec_gen_DataFrame.to_csv('Elec_Gen_Potential_Geothermal_5000MWCap_withRR+Reserves.csv')"
   ]
  },
  {
   "cell_type": "code",
   "execution_count": null,
   "id": "02da44f0",
   "metadata": {},
   "outputs": [],
   "source": []
  }
 ],
 "metadata": {
  "kernelspec": {
   "display_name": "Python 3 (ipykernel)",
   "language": "python",
   "name": "python3"
  },
  "language_info": {
   "codemirror_mode": {
    "name": "ipython",
    "version": 3
   },
   "file_extension": ".py",
   "mimetype": "text/x-python",
   "name": "python",
   "nbconvert_exporter": "python",
   "pygments_lexer": "ipython3",
   "version": "3.9.7"
  }
 },
 "nbformat": 4,
 "nbformat_minor": 5
}
