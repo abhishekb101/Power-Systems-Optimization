{
 "cells": [
  {
   "cell_type": "code",
   "execution_count": 1,
   "id": "7ff87e58",
   "metadata": {},
   "outputs": [],
   "source": [
    "#Importing necessary libraries and pyomo objects\n",
    "from pyomo.environ import *\n",
    "from pyomo.opt import SolverFactory\n",
    "import pandas as pd\n",
    "import numpy as np"
   ]
  },
  {
   "cell_type": "code",
   "execution_count": 2,
   "id": "a02eaaf4",
   "metadata": {},
   "outputs": [],
   "source": [
    "#Creating the model object\n",
    "RGenModel = AbstractModel()\n",
    "\n",
    "#Sets & Parameters of the Abstract model\n",
    "RGenModel.gen = Set()                     #non-renewable generators\n",
    "RGenModel.t = Set()                       #time periods \n",
    "RGenModel.rgen = Set()                    #renewable generators\n",
    "\n",
    "#Operational cost of each generator --> heat_rate*fuel_cost + VOM + FOM\n",
    "RGenModel.OpCost = Param(RGenModel.gen)\n",
    "RGenModel.ROpCost = Param(RGenModel.rgen)\n",
    "#Capacity of each generator \n",
    "RGenModel.Cap = Param(RGenModel.gen)\n",
    "RGenModel.RCap = Param(RGenModel.rgen)\n",
    "#Demand at any period of time --> hourly\n",
    "RGenModel.Demand = Param(RGenModel.t, within=PositiveReals)\n",
    "#Capacity factor for renewable generators at a given period of time\n",
    "RGenModel.CF = Param(RGenModel.rgen, RGenModel.t)\n",
    "\n",
    "#Declaring decision variable\n",
    "#Electricity generation for any generator at a given period of time\n",
    "RGenModel.EG = Var(RGenModel.gen, RGenModel.t, domain=NonNegativeReals)\n",
    "RGenModel.REG = Var(RGenModel.rgen, RGenModel.t, domain=NonNegativeReals)"
   ]
  },
  {
   "cell_type": "code",
   "execution_count": 3,
   "id": "4b7f0378",
   "metadata": {},
   "outputs": [],
   "source": [
    "#Objective function\n",
    "#Minimize the operational system cost over the fleet of non-renewable and renewable generators\n",
    "\n",
    "def obj_expression(RGenModel):\n",
    "    return sum(sum(RGenModel.OpCost[g]*RGenModel.EG[g,t] for g in RGenModel.gen) for t in RGenModel.t) + \\\n",
    "           sum(sum(RGenModel.ROpCost[rg]*RGenModel.REG[rg,t] for rg in RGenModel.rgen) for t in RGenModel.t)\n",
    "\n",
    "RGenModel.sysCost = Objective(rule=obj_expression, sense=minimize)"
   ]
  },
  {
   "cell_type": "code",
   "execution_count": 4,
   "id": "08c263f4",
   "metadata": {},
   "outputs": [],
   "source": [
    "#The above objective function is subject to multiple constraints\n",
    "\n",
    "#1. Supply == Demand for all periods of time\n",
    "def balance_rule(RGenModel, t):\n",
    "    return sum(RGenModel.EG[g,t] for g in RGenModel.gen) + \\\n",
    "           sum(RGenModel.REG[rg,t] for rg in RGenModel.rgen) == RGenModel.Demand[t]\n",
    "\n",
    "RGenModel.balance = Constraint(RGenModel.t, rule=balance_rule)"
   ]
  },
  {
   "cell_type": "code",
   "execution_count": 5,
   "id": "052946e1",
   "metadata": {},
   "outputs": [],
   "source": [
    "#2. The Generation potential of each non-renewable generator is restricted by its max capacity\n",
    "def max_gen_rule(RGenModel, gen, t):\n",
    "    return RGenModel.EG[gen,t] <= RGenModel.Cap[gen]\n",
    "\n",
    "RGenModel.max_gen = Constraint(RGenModel.gen, RGenModel.t, rule=max_gen_rule)"
   ]
  },
  {
   "cell_type": "code",
   "execution_count": 6,
   "id": "492e0105",
   "metadata": {},
   "outputs": [],
   "source": [
    "#3. The generation potential of renewable generators are limited by its capacity factor\n",
    "def max_gen_renewable_rule(RGenModel, rgen, t):\n",
    "    return RGenModel.REG[rgen,t] <= RGenModel.RCap[rgen] * CF_dict[rgen,t]\n",
    "\n",
    "RGenModel.max_rgen = Constraint(RGenModel.rgen, RGenModel.t, rule=max_gen_renewable_rule)"
   ]
  },
  {
   "cell_type": "code",
   "execution_count": 9,
   "id": "ba7f0e13",
   "metadata": {},
   "outputs": [
    {
     "name": "stdout",
     "output_type": "stream",
     "text": [
      "Restricted license - for non-production use only - expires 2024-10-28\n",
      "Read LP format model from file /var/folders/rk/rn44mwf56119gm2tgnf1dcjw0000gn/T/tmppxvvt2na.pyomo.lp\n",
      "Reading time = 0.27 seconds\n",
      "sysCost: 87601 rows, 78841 columns, 157681 nonzeros\n",
      "Gurobi Optimizer version 10.0.0 build v10.0.0rc2 (mac64[x86])\n",
      "\n",
      "CPU model: Intel(R) Core(TM) i5-1038NG7 CPU @ 2.00GHz\n",
      "Thread count: 4 physical cores, 8 logical processors, using up to 8 threads\n",
      "\n",
      "Traceback (most recent call last):\n",
      "  File \"<stdin>\", line 5, in <module>\n",
      "  File \"/Users/bhatta/opt/anaconda3/lib/python3.9/site-packages/pyomo/solvers/plugins/solvers/GUROBI_RUN.py\", line 115, in gurobi_run\n",
      "    model.optimize()\n",
      "  File \"src/gurobipy/model.pxi\", line 875, in gurobipy.Model.optimize\n",
      "gurobipy.GurobiError: Model too large for size-limited license; visit https://www.gurobi.com/free-trial for a full license\n",
      "ERROR: Solver (gurobi) returned non-zero return code (1)\n",
      "ERROR: See the solver log above for diagnostic information.\n"
     ]
    },
    {
     "ename": "ApplicationError",
     "evalue": "Solver (gurobi) did not exit normally",
     "output_type": "error",
     "traceback": [
      "\u001b[0;31m---------------------------------------------------------------------------\u001b[0m",
      "\u001b[0;31mApplicationError\u001b[0m                          Traceback (most recent call last)",
      "\u001b[0;32m/var/folders/rk/rn44mwf56119gm2tgnf1dcjw0000gn/T/ipykernel_28686/1305207154.py\u001b[0m in \u001b[0;36m<module>\u001b[0;34m\u001b[0m\n\u001b[1;32m     21\u001b[0m \u001b[0;34m\u001b[0m\u001b[0m\n\u001b[1;32m     22\u001b[0m \u001b[0;31m#Solving the optimization problem\u001b[0m\u001b[0;34m\u001b[0m\u001b[0;34m\u001b[0m\u001b[0m\n\u001b[0;32m---> 23\u001b[0;31m \u001b[0mresults\u001b[0m \u001b[0;34m=\u001b[0m \u001b[0mopt\u001b[0m\u001b[0;34m.\u001b[0m\u001b[0msolve\u001b[0m\u001b[0;34m(\u001b[0m\u001b[0minstance\u001b[0m\u001b[0;34m,\u001b[0m \u001b[0msymbolic_solver_labels\u001b[0m\u001b[0;34m=\u001b[0m\u001b[0;32mTrue\u001b[0m\u001b[0;34m,\u001b[0m \u001b[0mtee\u001b[0m\u001b[0;34m=\u001b[0m\u001b[0;32mTrue\u001b[0m\u001b[0;34m)\u001b[0m\u001b[0;34m\u001b[0m\u001b[0;34m\u001b[0m\u001b[0m\n\u001b[0m",
      "\u001b[0;32m~/opt/anaconda3/lib/python3.9/site-packages/pyomo/opt/base/solvers.py\u001b[0m in \u001b[0;36msolve\u001b[0;34m(self, *args, **kwds)\u001b[0m\n\u001b[1;32m    594\u001b[0m                 \u001b[0;32melif\u001b[0m \u001b[0mhasattr\u001b[0m\u001b[0;34m(\u001b[0m\u001b[0m_status\u001b[0m\u001b[0;34m,\u001b[0m \u001b[0;34m'log'\u001b[0m\u001b[0;34m)\u001b[0m \u001b[0;32mand\u001b[0m \u001b[0m_status\u001b[0m\u001b[0;34m.\u001b[0m\u001b[0mlog\u001b[0m\u001b[0;34m:\u001b[0m\u001b[0;34m\u001b[0m\u001b[0;34m\u001b[0m\u001b[0m\n\u001b[1;32m    595\u001b[0m                     \u001b[0mlogger\u001b[0m\u001b[0;34m.\u001b[0m\u001b[0merror\u001b[0m\u001b[0;34m(\u001b[0m\u001b[0;34m\"Solver log:\\n\"\u001b[0m \u001b[0;34m+\u001b[0m \u001b[0mstr\u001b[0m\u001b[0;34m(\u001b[0m\u001b[0m_status\u001b[0m\u001b[0;34m.\u001b[0m\u001b[0mlog\u001b[0m\u001b[0;34m)\u001b[0m\u001b[0;34m)\u001b[0m\u001b[0;34m\u001b[0m\u001b[0;34m\u001b[0m\u001b[0m\n\u001b[0;32m--> 596\u001b[0;31m                 raise ApplicationError(\n\u001b[0m\u001b[1;32m    597\u001b[0m                     \"Solver (%s) did not exit normally\" % self.name)\n\u001b[1;32m    598\u001b[0m             \u001b[0msolve_completion_time\u001b[0m \u001b[0;34m=\u001b[0m \u001b[0mtime\u001b[0m\u001b[0;34m.\u001b[0m\u001b[0mtime\u001b[0m\u001b[0;34m(\u001b[0m\u001b[0;34m)\u001b[0m\u001b[0;34m\u001b[0m\u001b[0;34m\u001b[0m\u001b[0m\n",
      "\u001b[0;31mApplicationError\u001b[0m: Solver (gurobi) did not exit normally"
     ]
    }
   ],
   "source": [
    "#Specifying the solver to use for optimization along with Dataportal\n",
    "opt = SolverFactory('gurobi')\n",
    "data = DataPortal()\n",
    "\n",
    "#Reading respective demand, generator and capacity factor profiles from different \n",
    "data.load(filename='Hourly_demand_profile_2021.csv', format='set', set='t', model=RGenModel)\n",
    "data.load(filename='Hourly_demand_profile_2021.csv', index='t', param='Demand', model=RGenModel)\n",
    "data.load(filename='generation_data.csv', format='set', set='gen', model=RGenModel)\n",
    "data.load(filename='renewable_generation_data.csv', format='set', set='rgen', model=RGenModel)\n",
    "data.load(filename='generation_data.csv',index='gen', param=['OpCost','Cap'], model=RGenModel)\n",
    "data.load(filename='renewable_generation_data.csv', index='rgen',param=['ROpCost','RCap'], model=RGenModel)\n",
    "#data.load(filename='Renewable_generators_CF.csv', index=['rgen','t'], param='CF', model=RGenModel)\n",
    "#Reading the CF file and post processing using pandas to handle multi-index \n",
    "CF_dict = pd.read_csv('Renewable_generators_CF.csv', index_col='t').unstack(0).to_dict()\n",
    "\n",
    "#Creating an instance and displaying all information of that instance\n",
    "instance = RGenModel.create_instance(data)\n",
    "\n",
    "#We can display all the info of the instance\n",
    "#instance.pprint()\n",
    "\n",
    "#Solving the optimization problem\n",
    "results = opt.solve(instance, symbolic_solver_labels=True, tee=True) "
   ]
  },
  {
   "cell_type": "code",
   "execution_count": null,
   "id": "fc71100f",
   "metadata": {},
   "outputs": [],
   "source": []
  }
 ],
 "metadata": {
  "kernelspec": {
   "display_name": "Python 3 (ipykernel)",
   "language": "python",
   "name": "python3"
  },
  "language_info": {
   "codemirror_mode": {
    "name": "ipython",
    "version": 3
   },
   "file_extension": ".py",
   "mimetype": "text/x-python",
   "name": "python",
   "nbconvert_exporter": "python",
   "pygments_lexer": "ipython3",
   "version": "3.9.7"
  }
 },
 "nbformat": 4,
 "nbformat_minor": 5
}
