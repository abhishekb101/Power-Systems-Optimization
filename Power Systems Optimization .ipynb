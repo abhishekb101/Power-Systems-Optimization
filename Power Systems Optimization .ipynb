{
 "cells": [
  {
   "cell_type": "code",
   "execution_count": 1,
   "id": "dd2e4f54",
   "metadata": {},
   "outputs": [],
   "source": [
    "#Importing necessary libraries and pyomo objects\n",
    "from pyomo.environ import *\n",
    "from pyomo.opt import SolverFactory\n",
    "import pandas as pd\n",
    "import numpy as np"
   ]
  },
  {
   "cell_type": "code",
   "execution_count": 2,
   "id": "62502e80",
   "metadata": {},
   "outputs": [],
   "source": [
    "#Creating the model object\n",
    "RGenModel = AbstractModel()\n",
    "\n",
    "#Sets & Parameters of the Abstract model\n",
    "RGenModel.gen = Set()                     #non-renewable generators\n",
    "RGenModel.t = Set()                       #time periods \n",
    "RGenModel.rgen = Set()                    #renewable generators\n",
    "\n",
    "#Operational cost of each generator --> heat_rate*fuel_cost + VOM + FOM\n",
    "RGenModel.OpCost = Param(RGenModel.gen)\n",
    "RGenModel.ROpCost = Param(RGenModel.rgen)\n",
    "#Capacity of each generator \n",
    "RGenModel.Cap = Param(RGenModel.gen)\n",
    "RGenModel.RCap = Param(RGenModel.rgen)\n",
    "#Demand at any period of time --> hourly\n",
    "RGenModel.Demand = Param(RGenModel.t, within=PositiveReals)\n",
    "#Capacity factor for renewable generators at a given period of time\n",
    "RGenModel.CF = Param(RGenModel.rgen, RGenModel.t)\n",
    "\n",
    "#Declaring decision variable\n",
    "#Electricity generation for any generator at a given period of time\n",
    "RGenModel.EG = Var(RGenModel.gen, RGenModel.t, domain=NonNegativeReals)\n",
    "RGenModel.REG = Var(RGenModel.rgen, RGenModel.t, domain=NonNegativeReals)"
   ]
  },
  {
   "cell_type": "code",
   "execution_count": 3,
   "id": "c6559fcc",
   "metadata": {},
   "outputs": [],
   "source": [
    "#Objective function\n",
    "#Minimize the operational system cost over the fleet of non-renewable and renewable generators\n",
    "\n",
    "def obj_expression(RGenModel):\n",
    "    return sum(sum(RGenModel.OpCost[g]*RGenModel.EG[g,t] for g in RGenModel.gen) for t in RGenModel.t) + \\\n",
    "           sum(sum(RGenModel.ROpCost[rg]*RGenModel.REG[rg,t] for rg in RGenModel.rgen) for t in RGenModel.t)\n",
    "\n",
    "RGenModel.sysCost = Objective(rule=obj_expression, sense=minimize)"
   ]
  },
  {
   "cell_type": "code",
   "execution_count": 4,
   "id": "16c3db26",
   "metadata": {},
   "outputs": [],
   "source": [
    "#The above objective function is subject to multiple constraints\n",
    "\n",
    "#1. Supply == Demand for all periods of time\n",
    "def balance_rule(RGenModel, t):\n",
    "    return sum(RGenModel.EG[g,t] for g in RGenModel.gen) + \\\n",
    "           sum(RGenModel.REG[rg,t] for rg in RGenModel.rgen) == RGenModel.Demand[t]\n",
    "\n",
    "RGenModel.balance = Constraint(RGenModel.t, rule=balance_rule)"
   ]
  },
  {
   "cell_type": "code",
   "execution_count": 5,
   "id": "b6639ed9",
   "metadata": {},
   "outputs": [],
   "source": [
    "#2. The Generation potential of each non-renewable generator is restricted by its max capacity\n",
    "def max_gen_rule(RGenModel, gen, t):\n",
    "    return RGenModel.EG[gen,t] <= RGenModel.Cap[gen]\n",
    "\n",
    "RGenModel.max_gen = Constraint(RGenModel.gen, RGenModel.t, rule=max_gen_rule)"
   ]
  },
  {
   "cell_type": "code",
   "execution_count": 6,
   "id": "0b6024f6",
   "metadata": {},
   "outputs": [],
   "source": [
    "#3. The generation potential of renewable generators are limited by its capacity factor\n",
    "def max_gen_renewable_rule(RGenModel, rgen, t):\n",
    "    return RGenModel.REG[rgen,t] <= RGenModel.RCap[rgen] * CF_dict[rgen,t]\n",
    "\n",
    "RGenModel.max_rgen = Constraint(RGenModel.rgen, RGenModel.t, rule=max_gen_renewable_rule)"
   ]
  },
  {
   "cell_type": "code",
   "execution_count": 50,
   "id": "3ae71d4d",
   "metadata": {},
   "outputs": [
    {
     "name": "stdout",
     "output_type": "stream",
     "text": [
      "Set parameter Username\n",
      "Academic license - for non-commercial use only - expires 2023-11-09\n",
      "Read LP format model from file /var/folders/rk/rn44mwf56119gm2tgnf1dcjw0000gn/T/tmpnx47nk7c.pyomo.lp\n",
      "Reading time = 0.25 seconds\n",
      "sysCost: 87601 rows, 78841 columns, 157681 nonzeros\n",
      "Gurobi Optimizer version 10.0.0 build v10.0.0rc2 (mac64[x86])\n",
      "\n",
      "CPU model: Intel(R) Core(TM) i5-1038NG7 CPU @ 2.00GHz\n",
      "Thread count: 4 physical cores, 8 logical processors, using up to 8 threads\n",
      "\n",
      "Optimize a model with 87601 rows, 78841 columns and 157681 nonzeros\n",
      "Model fingerprint: 0x72fb5e3f\n",
      "Coefficient statistics:\n",
      "  Matrix range     [1e+00, 1e+00]\n",
      "  Objective range  [1e+00, 5e+01]\n",
      "  Bounds range     [0e+00, 0e+00]\n",
      "  RHS range        [3e-02, 7e+04]\n",
      "Presolve removed 84432 rows and 57467 columns\n",
      "Presolve time: 0.18s\n",
      "Presolved: 3169 rows, 21374 columns, 21374 nonzeros\n",
      "\n",
      "Concurrent LP optimizer: dual simplex and barrier\n",
      "Showing barrier log only...\n",
      "\n",
      "Ordering time: 0.00s\n",
      "\n",
      "Barrier statistics:\n",
      " AA' NZ     : 0.000e+00\n",
      " Factor NZ  : 3.169e+03 (roughly 10 MB of memory)\n",
      " Factor Ops : 3.169e+03 (less than 1 second per iteration)\n",
      " Threads    : 1\n",
      "\n",
      "                  Objective                Residual\n",
      "Iter       Primal          Dual         Primal    Dual     Compl     Time\n",
      "   0   2.19413505e+10 -4.25225548e+09  2.36e+05 1.07e-14  1.33e+06     0s\n",
      "   1   7.86926014e+09  2.07069208e+09  8.17e+03 4.26e-14  1.50e+05     0s\n",
      "   2   6.72141152e+09  5.84453424e+09  1.03e+02 6.39e-14  2.05e+04     0s\n",
      "\n",
      "Barrier performed 2 iterations in 0.20 seconds (0.17 work units)\n",
      "Barrier solve interrupted - model solved by another algorithm\n",
      "\n",
      "\n",
      "Solved with dual simplex\n",
      "Iteration    Objective       Primal Inf.    Dual Inf.      Time\n",
      "    3169    6.3465003e+09   0.000000e+00   0.000000e+00      0s\n",
      "\n",
      "Solved in 3169 iterations and 0.25 seconds (0.18 work units)\n",
      "Optimal objective  6.346500285e+09\n"
     ]
    }
   ],
   "source": [
    "#Specifying the solver to use for optimization along with Dataportal\n",
    "opt = SolverFactory('gurobi')\n",
    "data = DataPortal()\n",
    "\n",
    "#Reading respective demand, generator and capacity factor profiles from different \n",
    "data.load(filename='Hourly_demand_profile_2021.csv', format='set', set='t', model=RGenModel)\n",
    "data.load(filename='Hourly_demand_profile_2021.csv', index='t', param='Demand', model=RGenModel)\n",
    "data.load(filename='generation_data.csv', format='set', set='gen', model=RGenModel)\n",
    "data.load(filename='renewable_generation_data.csv', format='set', set='rgen', model=RGenModel)\n",
    "data.load(filename='generation_data.csv',index='gen', param=['OpCost','Cap'], model=RGenModel)\n",
    "data.load(filename='renewable_generation_data.csv', index='rgen',param=['ROpCost','RCap'], model=RGenModel)\n",
    "#data.load(filename='Renewable_generators_CF.csv', index=['rgen','t'], param='CF', model=RGenModel)\n",
    "#Reading the CF file and post processing using pandas to handle multi-index \n",
    "CF_dict = pd.read_csv('Renewable_generators_CF.csv', index_col='t').unstack(0).to_dict()\n",
    "\n",
    "#Creating an instance and displaying all information of that instance\n",
    "instance = RGenModel.create_instance(data)\n",
    "\n",
    "#We can display all the info of the instance\n",
    "#instance.pprint()\n",
    "\n",
    "#Solving the optimization problem\n",
    "results = opt.solve(instance, symbolic_solver_labels=True, tee=True) "
   ]
  },
  {
   "cell_type": "code",
   "execution_count": null,
   "id": "12fb4e1c",
   "metadata": {},
   "outputs": [],
   "source": []
  }
 ],
 "metadata": {
  "kernelspec": {
   "display_name": "Python 3 (ipykernel)",
   "language": "python",
   "name": "python3"
  },
  "language_info": {
   "codemirror_mode": {
    "name": "ipython",
    "version": 3
   },
   "file_extension": ".py",
   "mimetype": "text/x-python",
   "name": "python",
   "nbconvert_exporter": "python",
   "pygments_lexer": "ipython3",
   "version": "3.9.7"
  }
 },
 "nbformat": 4,
 "nbformat_minor": 5
}
